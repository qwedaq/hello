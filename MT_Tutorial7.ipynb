{
  "nbformat": 4,
  "nbformat_minor": 0,
  "metadata": {
    "colab": {
      "name": "MT_Tutorial7.ipynb",
      "provenance": [],
      "authorship_tag": "ABX9TyNSAM4LcIGX4LIrS+e35uWV",
      "include_colab_link": true
    },
    "kernelspec": {
      "name": "python3",
      "display_name": "Python 3"
    },
    "language_info": {
      "name": "python"
    }
  },
  "cells": [
    {
      "cell_type": "markdown",
      "metadata": {
        "id": "view-in-github",
        "colab_type": "text"
      },
      "source": [
        "<a href=\"https://colab.research.google.com/github/aveen-d/hello/blob/master/MT_Tutorial7.ipynb\" target=\"_parent\"><img src=\"https://colab.research.google.com/assets/colab-badge.svg\" alt=\"Open In Colab\"/></a>"
      ]
    },
    {
      "cell_type": "markdown",
      "metadata": {
        "id": "jy_kJsYAriL9"
      },
      "source": [
        "# CGS"
      ]
    },
    {
      "cell_type": "code",
      "metadata": {
        "id": "SbQQxqZ4aVM5"
      },
      "source": [
        "import numpy as np\n",
        "\n",
        "\n",
        "def classical_GS(A):\n",
        "  n=A.shape[0]\n",
        "  m=A.shape[1]\n",
        "  r=np.zeros((n,n))\n",
        "  q=np.zeros((m,m))\n",
        "  r[0,0]=np.dot(A[:,0],A[:,0])/np.linalg.norm(A[:,0])\n",
        "  q[:,0]=A[:,0]/r[0,0]\n",
        "\n",
        "  for k in range(1,m):\n",
        "    q_h=A[:,k]\n",
        "    for i in range(k):\n",
        "      r[i,k]=np.dot(A[:,k] ,q[:,i])\n",
        "      q_h = q_h - (r[i,k]*q[:,i])\n",
        "\n",
        "    r[k,k] = np.linalg.norm(q_h)\n",
        "\n",
        "    q[:,k] = q_h/r[k,k]\n",
        "\n",
        "  return q,r"
      ],
      "execution_count": null,
      "outputs": []
    },
    {
      "cell_type": "markdown",
      "metadata": {
        "id": "6fe0LiB1rkzq"
      },
      "source": [
        "# MGS"
      ]
    },
    {
      "cell_type": "code",
      "metadata": {
        "id": "UQWBD92NiY82"
      },
      "source": [
        "def modified_GS(A):\n",
        "  \n",
        "  n=A.shape[0]\n",
        "  m=A.shape[1]\n",
        "  r=np.zeros((m,m))\n",
        "  q=np.zeros((n,m))\n",
        "  for k in range(m):\n",
        "    r[k, k] = np.linalg.norm(A[:,k])\n",
        "    q[:, k] = A[:, k]/r[k, k]\n",
        "    for j in range(k+1, m):\n",
        "      r[k, j] = np.dot(q[:, k], A[:, j])\n",
        "      A[:, j] = A[:, j] - r[k, j]*q[:, k]\n",
        "      \n",
        "  return q, r"
      ],
      "execution_count": null,
      "outputs": []
    },
    {
      "cell_type": "markdown",
      "metadata": {
        "id": "4M4u5WbXrmOR"
      },
      "source": [
        "# Q1. a"
      ]
    },
    {
      "cell_type": "code",
      "metadata": {
        "colab": {
          "base_uri": "https://localhost:8080/"
        },
        "id": "duQnhLfFidDw",
        "outputId": "6cae5d3d-d135-494f-9b08-7a39351bf5d8"
      },
      "source": [
        "n=6\n",
        "A= np.random.random((n,n))\n",
        "q,r =classical_GS(A)\n",
        "\n",
        "q_m,r_m = modified_GS(A)\n",
        "print(\"Classical:\")\n",
        "print(\"N1: \"+str(np.linalg.norm(A-np.dot(q,r),ord='fro')))\n",
        "print(\"N2: \"+str(np.linalg.norm(np.dot(q.T,q)-np.identity(n), ord ='fro')))\n",
        "print(\"-------\")\n",
        "\n",
        "print(\"Modified:\")\n",
        "print(\"N1: \"+str(np.linalg.norm(A-np.dot(q_m,r_m),ord='fro')))\n",
        "print(\"N2: \"+str(np.linalg.norm(np.dot(q_m.T,q_m)-np.identity(n), ord ='fro')))\n",
        "print(\"-----\")\n",
        "\n",
        "Q,R = np.linalg.qr(A)\n",
        "print(\"Lib:\")\n",
        "print(\"N1: \"+str(np.linalg.norm(A-np.dot(Q,R),ord='fro')))\n",
        "print(\"N2: \"+str(np.linalg.norm(np.dot(Q.T,Q)-np.identity(n), ord ='fro')))\n"
      ],
      "execution_count": null,
      "outputs": [
        {
          "output_type": "stream",
          "name": "stdout",
          "text": [
            "Classical:\n",
            "N1: 2.415642369854084\n",
            "N2: 2.6380279251215015e-14\n",
            "-------\n",
            "Modified:\n",
            "N1: 2.4156423698540843\n",
            "N2: 5.8124454896176076e-15\n",
            "-----\n",
            "Lib:\n",
            "N1: 4.2241692778695504e-16\n",
            "N2: 1.2159991245179531e-15\n"
          ]
        }
      ]
    },
    {
      "cell_type": "markdown",
      "metadata": {
        "id": "ITm40ycrrpGx"
      },
      "source": [
        "# Q1.b"
      ]
    },
    {
      "cell_type": "code",
      "metadata": {
        "colab": {
          "base_uri": "https://localhost:8080/"
        },
        "id": "b2frcnfllkH8",
        "outputId": "6d61ba24-e12f-4934-b99a-bd6a30c1cb9f"
      },
      "source": [
        "n=6\n",
        "m=5\n",
        "B= np.random.random((n,m))\n",
        "A=np.dot(B,B.T)\n",
        "\n",
        "q,r =classical_GS(A)\n",
        "\n",
        "q_m,r_m = modified_GS(A)\n",
        "print(\"Classical:\")\n",
        "print(\"N1: \"+str(np.linalg.norm(A-np.dot(q,r),ord='fro')))\n",
        "print(\"N2: \"+str(np.linalg.norm(np.dot(q.T,q)-np.identity(n), ord ='fro')))\n",
        "print(\"-------\")\n",
        "\n",
        "print(\"Modified:\")\n",
        "print(\"N1: \"+str(np.linalg.norm(A-np.dot(q_m,q_m),ord='fro')))\n",
        "print(\"N2: \"+str(np.linalg.norm(np.dot(q_m.T,q_m)-np.identity(n), ord ='fro')))\n",
        "print(\"-----\")\n",
        "\n",
        "Q,R = np.linalg.qr(A)\n",
        "print(\"Lib:\")\n",
        "print(\"N1: \"+str(np.linalg.norm(A-np.dot(Q,R),ord='fro')))\n",
        "print(\"N2: \"+str(np.linalg.norm(np.dot(Q.T,Q)-np.identity(n), ord ='fro')))\n"
      ],
      "execution_count": null,
      "outputs": [
        {
          "output_type": "stream",
          "name": "stdout",
          "text": [
            "Classical:\n",
            "N1: 6.282307493579772\n",
            "N2: 1.4142129844977527\n",
            "-------\n",
            "Modified:\n",
            "N1: 3.231781559292718\n",
            "N2: 1.1306742540255537\n",
            "-----\n",
            "Lib:\n",
            "N1: 5.558949449517071e-16\n",
            "N2: 1.037161495170454e-15\n"
          ]
        }
      ]
    },
    {
      "cell_type": "markdown",
      "metadata": {
        "id": "rfaK7f4drr0c"
      },
      "source": [
        "# Q1.c"
      ]
    },
    {
      "cell_type": "code",
      "metadata": {
        "colab": {
          "base_uri": "https://localhost:8080/"
        },
        "id": "wqftfe2bpGwJ",
        "outputId": "ae9c7d7c-f759-48dc-871e-53f69719e8bf"
      },
      "source": [
        "n=6\n",
        "m=5\n",
        "B= np.random.random((n,m))\n",
        "A=0.0001*np.identity(n)+np.dot(B,B.T)\n",
        "\n",
        "q,r =classical_GS(A)\n",
        "\n",
        "q_m,r_m = modified_GS(A)\n",
        "print(\"Classical:\")\n",
        "print(\"N1: \"+str(np.linalg.norm(A-np.dot(q,r),ord='fro')))\n",
        "print(\"N2: \"+str(np.linalg.norm(np.dot(q.T,q)-np.identity(n), ord ='fro')))\n",
        "print(\"-------\")\n",
        "\n",
        "print(\"Modified:\")\n",
        "print(\"N1: \"+str(np.linalg.norm(A-np.dot(q_m,r_m),ord='fro')))\n",
        "print(\"N2: \"+str(np.linalg.norm(np.dot(q_m.T,q_m)-np.identity(n), ord ='fro')))\n",
        "print(\"-----\")\n",
        "\n",
        "Q,R = np.linalg.qr(A)\n",
        "print(\"Lib:\")\n",
        "print(\"N1: \"+str(np.linalg.norm(A-np.dot(Q,R),ord='fro')))\n",
        "print(\"N2: \"+str(np.linalg.norm(np.dot(Q.T,Q)-np.identity(n), ord ='fro')))\n"
      ],
      "execution_count": null,
      "outputs": [
        {
          "output_type": "stream",
          "name": "stdout",
          "text": [
            "Classical:\n",
            "N1: 6.579980433451512\n",
            "N2: 5.7353979733013826e-11\n",
            "-------\n",
            "Modified:\n",
            "N1: 6.579980433451511\n",
            "N2: 3.7692760959506674e-12\n",
            "-----\n",
            "Lib:\n",
            "N1: 7.951139379182854e-16\n",
            "N2: 5.469590881754499e-16\n"
          ]
        }
      ]
    },
    {
      "cell_type": "markdown",
      "metadata": {
        "id": "hVaEHsnErvK9"
      },
      "source": [
        "# Q1.d"
      ]
    },
    {
      "cell_type": "code",
      "metadata": {
        "colab": {
          "base_uri": "https://localhost:8080/"
        },
        "id": "Y42j4nl_pjFd",
        "outputId": "daa63ead-236b-4f4e-8a44-e9c649b9ae7c"
      },
      "source": [
        "from scipy import linalg\n",
        "n=6\n",
        "m=5\n",
        "\n",
        "A=0.0001*np.identity(n)+linalg.hilbert(n)\n",
        "\n",
        "q,r =classical_GS(A)\n",
        "\n",
        "q_m,r_m = modified_GS(A)\n",
        "print(\"Classical:\")\n",
        "print(\"N1: \"+str(np.linalg.norm(A-np.dot(q,r),ord='fro')))\n",
        "print(\"N2: \"+str(np.linalg.norm(np.dot(q.T,q)-np.identity(n), ord ='fro')))\n",
        "print(\"-------\")\n",
        "\n",
        "print(\"Modified:\")\n",
        "print(\"N1: \"+str(np.linalg.norm(A-np.dot(q_m,r_m),ord='fro')))\n",
        "print(\"N2: \"+str(np.linalg.norm(np.dot(q_m.T,q_m)-np.identity(n), ord ='fro')))\n",
        "print(\"-----\")\n",
        "\n",
        "Q,R = np.linalg.qr(A)\n",
        "print(\"Lib:\")\n",
        "print(\"N1: \"+str(np.linalg.norm(A-np.dot(Q,R),ord='fro')))\n",
        "print(\"N2: \"+str(np.linalg.norm(np.dot(Q.T,Q)-np.identity(n), ord ='fro')))\n"
      ],
      "execution_count": null,
      "outputs": [
        {
          "output_type": "stream",
          "name": "stdout",
          "text": [
            "Classical:\n",
            "N1: 1.0813625915950587\n",
            "N2: 3.287335795462857e-08\n",
            "-------\n",
            "Modified:\n",
            "N1: 1.0813625915950587\n",
            "N2: 1.4364230873420352e-12\n",
            "-----\n",
            "Lib:\n",
            "N1: 2.2093046178560638e-17\n",
            "N2: 1.0985331250958126e-15\n"
          ]
        }
      ]
    }
  ]
}